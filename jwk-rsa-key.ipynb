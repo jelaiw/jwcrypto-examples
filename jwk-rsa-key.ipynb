{
 "cells": [
  {
   "attachments": {},
   "cell_type": "markdown",
   "metadata": {},
   "source": [
    "See JWK examples at https://jwcrypto.readthedocs.io/en/latest/jwk.html#examples.\n",
    "\n",
    "Try UUID for `kid`? See https://docs.python.org/3/library/uuid.html."
   ]
  },
  {
   "cell_type": "code",
   "execution_count": 10,
   "metadata": {},
   "outputs": [],
   "source": [
    "from jwcrypto import jwk\n",
    "import uuid"
   ]
  },
  {
   "cell_type": "code",
   "execution_count": 19,
   "metadata": {},
   "outputs": [
    {
     "data": {
      "text/plain": [
       "'081912c8-c8fb-11ed-adfc-002248530c6d'"
      ]
     },
     "execution_count": 19,
     "metadata": {},
     "output_type": "execute_result"
    }
   ],
   "source": [
    "kid = str(uuid.uuid1())\n",
    "kid"
   ]
  },
  {
   "cell_type": "code",
   "execution_count": 20,
   "metadata": {},
   "outputs": [],
   "source": [
    "key = jwk.JWK.generate(kty=\"RSA\", size=2048, kid=kid)"
   ]
  },
  {
   "attachments": {},
   "cell_type": "markdown",
   "metadata": {},
   "source": [
    "See https://jwcrypto.readthedocs.io/en/latest/jwk.html#jwcrypto.jwk.JWK.export."
   ]
  },
  {
   "cell_type": "code",
   "execution_count": 12,
   "metadata": {},
   "outputs": [],
   "source": [
    "import json"
   ]
  },
  {
   "cell_type": "code",
   "execution_count": 21,
   "metadata": {},
   "outputs": [
    {
     "data": {
      "text/plain": [
       "{'d': 'FEvcu-BNCGlkKNcmUS1NYvM8zXEIOaTTR_fsQA8i64Bctg5OylabPkmVbjs1hrrplqi6WaVe5lJgrAre9z-fA0XNxL6oeLqmUMpeQvSWtVuVKKeX40UhY80J0LzjgYkhbn_ijSmSyN0Fsz-OgCvT6MffVU1AyPkZVwVCl16U5XASbr3nnvyoTxA2ufek2K4IrEpLkBEY1s_lCiGBseCUD6wIuoNQse317dEXeGCoL4R6x6KE2bMSRQw6-DKFe02FihoWJMwTAFELZyzaHhA7xv3B-EUPS3GuiaYdeO11a-i1vDY0oeF_K2MtWOL7pi_C9TdAl4QvAxz-J_40q8kmcQ',\n",
       " 'dp': 'rAFbMxkZZVm3V6EJ1fGVSqs02LrfuKLDTkAcCnU6DAVpEbcrviq9bGqnmSlrNkJsRTOV4bDT2V91Qx8VY2zh5N02hhm7wDF-wMzpnxtozZDJcqoPMuiyDYM1B4bQiHsQprPHAa5hWbYChov-lzjNUvRP_HOqwZJXz5ijFIuAIkE',\n",
       " 'dq': 'AllQe3NbMFBKa2U1ZxjxMYMhI_r1fB2kQSd6tG8bUFyRM6NJirjX5KFViRhLjyn5Jw9Qn5aBHa2w5pwT6m_lNCwMbwf2-DRvip5vtg1y599slfsbg4kEpKeQKw-5QG3fTQGmVGSoIsNNDqqg24biYrEaFEAqzAprV-XKesyycyk',\n",
       " 'e': 'AQAB',\n",
       " 'kid': '081912c8-c8fb-11ed-adfc-002248530c6d',\n",
       " 'kty': 'RSA',\n",
       " 'n': 'vvUTqVeCtFXoncjS5AJWBovZCClxcskCGK-bAcTihXj3IXjODR3MkA778P4EBaOZx27eomlw5dDUXTibPd1fHhVV6sFNFz2NAM5cM9BSP1CRiy1TNYBVAMv0j-gxtApKBZRWzuVOtaw1oUh5MhOSr_mu112QC67BJovqhg54rGfbyoMd2OAn_8X4zMBXeEnvsYCOq4HaINyUTSGZWnlPflAzaANGFIn_ruMEHu-KiSXznCZCG7DKrc7YdByrXEGuJjJKq4XO_tHBq_mWtMcwkEwoZ3igRgK0QXdkxOPjmxy5fBz2KUb1-Fq4Jk3nSOA_GyMi_1NSJeOlWh32ocaEUQ',\n",
       " 'p': 'zhj4kdMNNdIUOcbeS9a3FI8H_m0TEzhVTPZGhI4n66DXyCK8Sj41zVbsvAuNklrZbn6cPP03udjAxTJmrmvvwf1bfVLyFIGMiRjfqvPLBbLmSucvDVRO4ntZpvC5MP4iFOoCklqNWVY24DQlKKkdhd4XEZP46QieUcc_ml9HGCk',\n",
       " 'q': '7TGibAQyXBi-ypomxvC7JmOo3oK_VtRcna0b-NNTzwp6XH6wt_eQjny2aBGdLGOG6n1PpCSROxeAUNq79nVnxImCM2-hZe3BTbLRQMDe_ihqRIOMSMoHwov1_Zcy8dk8sqruRDwqXzxHxxMj9Np-Dsl5oW2tPzKkN6u8YxPSL-k',\n",
       " 'qi': 'xIUytf-HaUd9Hru3XoB-qoJIfaujGM3Ur7gSzNwBr_GzmybDr2IzCWrBNYmpnlU73s-NNjY7eX5VJY4nMb90IuCIh24gByEbCEKcVYq55WrX8N19WoAtS9207-D5PfAwhaClqLnhxBRCXVJGnKJ46-FRDpM8DIxa9BAMhzA4i0Y'}"
      ]
     },
     "execution_count": 21,
     "metadata": {},
     "output_type": "execute_result"
    }
   ],
   "source": [
    "json.loads(key.export())"
   ]
  },
  {
   "attachments": {},
   "cell_type": "markdown",
   "metadata": {},
   "source": [
    "Actually, we just want the public key.\n",
    "\n",
    "See https://jwcrypto.readthedocs.io/en/latest/jwk.html#jwcrypto.jwk.JWK.export_public."
   ]
  },
  {
   "cell_type": "code",
   "execution_count": 22,
   "metadata": {},
   "outputs": [
    {
     "data": {
      "text/plain": [
       "{'kty': 'RSA',\n",
       " 'kid': '081912c8-c8fb-11ed-adfc-002248530c6d',\n",
       " 'n': 'vvUTqVeCtFXoncjS5AJWBovZCClxcskCGK-bAcTihXj3IXjODR3MkA778P4EBaOZx27eomlw5dDUXTibPd1fHhVV6sFNFz2NAM5cM9BSP1CRiy1TNYBVAMv0j-gxtApKBZRWzuVOtaw1oUh5MhOSr_mu112QC67BJovqhg54rGfbyoMd2OAn_8X4zMBXeEnvsYCOq4HaINyUTSGZWnlPflAzaANGFIn_ruMEHu-KiSXznCZCG7DKrc7YdByrXEGuJjJKq4XO_tHBq_mWtMcwkEwoZ3igRgK0QXdkxOPjmxy5fBz2KUb1-Fq4Jk3nSOA_GyMi_1NSJeOlWh32ocaEUQ',\n",
       " 'e': 'AQAB'}"
      ]
     },
     "execution_count": 22,
     "metadata": {},
     "output_type": "execute_result"
    }
   ],
   "source": [
    "key.export_public(as_dict=True)"
   ]
  },
  {
   "cell_type": "code",
   "execution_count": null,
   "metadata": {},
   "outputs": [],
   "source": []
  }
 ],
 "metadata": {
  "kernelspec": {
   "display_name": "Python 3",
   "language": "python",
   "name": "python3"
  },
  "language_info": {
   "codemirror_mode": {
    "name": "ipython",
    "version": 3
   },
   "file_extension": ".py",
   "mimetype": "text/x-python",
   "name": "python",
   "nbconvert_exporter": "python",
   "pygments_lexer": "ipython3",
   "version": "3.10.4"
  },
  "orig_nbformat": 4
 },
 "nbformat": 4,
 "nbformat_minor": 2
}
