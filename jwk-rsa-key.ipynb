{
 "cells": [
  {
   "attachments": {},
   "cell_type": "markdown",
   "metadata": {},
   "source": [
    "See JWK examples at https://jwcrypto.readthedocs.io/en/latest/jwk.html#examples."
   ]
  },
  {
   "cell_type": "code",
   "execution_count": 1,
   "metadata": {},
   "outputs": [],
   "source": [
    "from jwcrypto import jwk"
   ]
  },
  {
   "cell_type": "code",
   "execution_count": 2,
   "metadata": {},
   "outputs": [],
   "source": [
    "key = jwk.JWK.generate(kty=\"RSA\", size=2048)"
   ]
  },
  {
   "attachments": {},
   "cell_type": "markdown",
   "metadata": {},
   "source": [
    "See https://jwcrypto.readthedocs.io/en/latest/jwk.html#jwcrypto.jwk.JWK.export."
   ]
  },
  {
   "cell_type": "code",
   "execution_count": 3,
   "metadata": {},
   "outputs": [],
   "source": [
    "import json"
   ]
  },
  {
   "cell_type": "code",
   "execution_count": 4,
   "metadata": {},
   "outputs": [
    {
     "data": {
      "text/plain": [
       "{'d': 'Y4JUbIUkZAun2dk4RMNwWgt04P1LKZfXH4uxvhaqSeTlE3p-8NZ1SpMCmfTBbYW2CCsrYi9Xxhi0xwbdWQ3BJUjIxe13EOa3rv3iwBI_BA_-3vqSyJuUxCefVUYS4W5hi9GSvbG8CltzksToIlo-jgemvJRpP2Lk5apEdrZMSJYZzqG6Q2Z4lt9t0uCc45pnWVupnQ8XCZkxf4C-6CGbesI14PrY4950EQvIqQi_02F5QGao_WfwT2tWOIwttAaadYm9Po_8z3T6UCQob_s4IyRxJNqfiH9XQ1KfjehijfxLqb90KzhAftxRPXKG8wEA83Jjx9R09gD-HTExAxYsFw',\n",
       " 'dp': '4CcfCU9_a-Pq3yhWHvU8qBIqtKi6jmRcVfkMGXZSla-VSS0Co1c3YlPUHZuj_Kv0nmQa8eIhzz8rQTad5GFePXtQamJTP66m0C7FSp-zGOwwFpO9mLCUTw0hy5y8WzmAtfciDtAVfKJNSPYMTrSJCtsQEf9e789duRuFpNVym2s',\n",
       " 'dq': 'Ik_twpXRHpkvp5E0QRedd6gkgSx397j8FzUqW1xD7GgePWLXA2DaJdPJv6tLeflLcKcLP9DzKwHBf2dRVP_BkOV8m7Sb8t6vXzGSsWWsDf52BTvnV8juGfEfvx2Sj8K2IsG-SgVHtX7tMdX__k_d9GoXK6ODAJicY6TNvp-4bNU',\n",
       " 'e': 'AQAB',\n",
       " 'kty': 'RSA',\n",
       " 'n': '3qhUWgWKZEc7mbHscp5A5Hh8HdvFzBChYEuHGhAYINJRgcJ2hZc7EmNPKBK74Drn7HeU0gTirzRFPRQlNzNSE5Gpm6eBCoadb-T0hOoKaZVVF18Eucmn52P_gDqG0LixGS-yTzw7UA16G9eXtDCNPwYjVtUG0e9whgjR8407C1nqGXDByUDjOrtF4zZtoiy56UUHR_rHm6BNbudS2TuwMCjbIDtDcNr9lATZli2fj1T_DfB3B67Fhb6Llmlrpo_9kfxMjPkyyW465C0mTCxUH67ntZKw13mdr7RQiR3wGa_hjV1JZmpg3ZcnHnwjwzZUDWf1io6HD13zCxLDVZd68Q',\n",
       " 'p': '8HM-ZeQa0I9d1ebn9ThaMfvuLamR2lNau1DgEZNQnX5PI6OL93FpImCT1gv3Kxqzfh-s0xb9hV-ztN6Hdv6IJsHnshLnlXFic7-LUTkDy3OzIT-csbT5e5IaZJm2h2jmugkgWAle20FaqQEqfvVEket4z91o33stXoYBbz3f0Ic',\n",
       " 'q': '7Q6FYmI5p95F3PCczaNy_-GrukqfjZmo5AVwjPGRzXsvzs36A8ZJ6LxANvlWjhTDp8PeuJjviWO0QFv99SBmWlPPBgYky-DBYvXZiuK7LH0c3jXGIZRReIDvpvpgwgSVw6dLZUxP9PPSCNR9_ACMBFG0stXPNc1Kb_mPgI1jDsc',\n",
       " 'qi': 'TBUOL_Rz6rllkSig3XjK3hvaaqBo2hKkBlgKEPNW6yvOApS3rXOLcIYgOXFf6RDmiED3duJbPYAhWC9p3G5pqwgpLVpO8oJy-_U8k7XdWNMTU0moai8QfI7_5T0VN63HE-yVO1TdzlYViX7_aSW-XKT0p44qwSYCObcPBOF_VQ'}"
      ]
     },
     "execution_count": 4,
     "metadata": {},
     "output_type": "execute_result"
    }
   ],
   "source": [
    "json.loads(key.export())"
   ]
  },
  {
   "attachments": {},
   "cell_type": "markdown",
   "metadata": {},
   "source": [
    "Actually, we just want the public key.\n",
    "\n",
    "See https://jwcrypto.readthedocs.io/en/latest/jwk.html#jwcrypto.jwk.JWK.export_public."
   ]
  },
  {
   "cell_type": "code",
   "execution_count": 5,
   "metadata": {},
   "outputs": [
    {
     "data": {
      "text/plain": [
       "{'kty': 'RSA',\n",
       " 'n': '3qhUWgWKZEc7mbHscp5A5Hh8HdvFzBChYEuHGhAYINJRgcJ2hZc7EmNPKBK74Drn7HeU0gTirzRFPRQlNzNSE5Gpm6eBCoadb-T0hOoKaZVVF18Eucmn52P_gDqG0LixGS-yTzw7UA16G9eXtDCNPwYjVtUG0e9whgjR8407C1nqGXDByUDjOrtF4zZtoiy56UUHR_rHm6BNbudS2TuwMCjbIDtDcNr9lATZli2fj1T_DfB3B67Fhb6Llmlrpo_9kfxMjPkyyW465C0mTCxUH67ntZKw13mdr7RQiR3wGa_hjV1JZmpg3ZcnHnwjwzZUDWf1io6HD13zCxLDVZd68Q',\n",
       " 'e': 'AQAB'}"
      ]
     },
     "execution_count": 5,
     "metadata": {},
     "output_type": "execute_result"
    }
   ],
   "source": [
    "key.export_public(as_dict=True)"
   ]
  },
  {
   "cell_type": "code",
   "execution_count": null,
   "metadata": {},
   "outputs": [],
   "source": []
  }
 ],
 "metadata": {
  "kernelspec": {
   "display_name": "Python 3",
   "language": "python",
   "name": "python3"
  },
  "language_info": {
   "codemirror_mode": {
    "name": "ipython",
    "version": 3
   },
   "file_extension": ".py",
   "mimetype": "text/x-python",
   "name": "python",
   "nbconvert_exporter": "python",
   "pygments_lexer": "ipython3",
   "version": "3.10.4"
  },
  "orig_nbformat": 4
 },
 "nbformat": 4,
 "nbformat_minor": 2
}
