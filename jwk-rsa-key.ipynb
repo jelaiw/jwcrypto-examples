{
 "cells": [
  {
   "attachments": {},
   "cell_type": "markdown",
   "metadata": {},
   "source": [
    "See JWK examples at https://jwcrypto.readthedocs.io/en/latest/jwk.html#examples.\n",
    "\n",
    "Try UUID for `kid`? See https://docs.python.org/3/library/uuid.html."
   ]
  },
  {
   "cell_type": "code",
   "execution_count": 10,
   "metadata": {},
   "outputs": [],
   "source": [
    "from jwcrypto import jwk\n",
    "import uuid"
   ]
  },
  {
   "cell_type": "code",
   "execution_count": 14,
   "metadata": {},
   "outputs": [],
   "source": [
    "key = jwk.JWK.generate(kty=\"RSA\", size=2048, kid=uuid.uuid1().hex)"
   ]
  },
  {
   "attachments": {},
   "cell_type": "markdown",
   "metadata": {},
   "source": [
    "See https://jwcrypto.readthedocs.io/en/latest/jwk.html#jwcrypto.jwk.JWK.export."
   ]
  },
  {
   "cell_type": "code",
   "execution_count": 12,
   "metadata": {},
   "outputs": [],
   "source": [
    "import json"
   ]
  },
  {
   "cell_type": "code",
   "execution_count": 15,
   "metadata": {},
   "outputs": [
    {
     "data": {
      "text/plain": [
       "{'d': 'Adt6vCZ998Gn2Y2vtNB1pdz2q8nNPa7TaKxYh8sRWGXD9ubCGTA-AaJYGkPzcdVYQy_MofJboTYdYc5PomYvUI1_GdOSVxZmDGnpvGE-0soJ_X0AXhicYA3R8bvS1L67Yu-PbyYRCdR3LgHvYySMXrmx2EASfhcW-GRnTzVr06EXnBn_6xNsjZvgkqw-KiK1jWMuE99GvcGVqpwmyR7EvJzVXKfWWbh6HucSgkU6ia-iCnk5n2Vq1yb_Z_aEelbB0YoWZnfGpIiznFLnqVzZP0QdSzI-Lf8g7eKU_KhXo96Bm92pi_vuQ4Cf81p2oUDKjBu1bi4PCVNiWRpRbkVh',\n",
       " 'dp': 'fqZLh1WFP7jDsFdh_yPgH_U1mAwonwHpcbmCzohsaX3OS7U8SVJCK_KMBSj6M4aLRkKIBHNuO7R721xTogQQQJAibInIM9pYQMDz5_uaTUQfJ_YfuFzO1qqUvkWVl4m3tSts-i9D_L2D6awfBKtF5XbFFq37U5fL1jG0Dp5FYqE',\n",
       " 'dq': 'YG2VrUwh5qwj5GjpVB7Us7P4q89-KrcIW2FFzdWLE3TexNleBchWVdyQl0lp2_8ha8IuB8BBtunm1kHA1kBOUdhtfYSmLwcuDvxae-VvEdcdcyj891ck_NpaNiODtbRy70ha-MsGvym0cfNYOaa0PrczhZ59IQsr4UO_M5Z-d3E',\n",
       " 'e': 'AQAB',\n",
       " 'kid': '9d88401ec8fa11edadfc002248530c6d',\n",
       " 'kty': 'RSA',\n",
       " 'n': 'w72b81T2DsZQlICEwwhCRgPXsSe5T52mb262LWRdo6QLzRYlvceuqMMFMN9xCVOieB8aL-LmPqHkFX_vKssiY66fVkmCaXh0NDzu1KhmN3aM-oj_TJaIneKGLvGh02pRe4Ex90lodxGKdXsx9AH-tofrSM2IrzJilgbnI_pxgLbpBq8sihrTYxZ91W_OH8jALjAssARa8Qp7pdrDAz6GchrtycGrVLBc6vgBTUiT0ZuUokpxmztGjor6sK-X120INIUoBwmN0fkA9E0wRQ2vkluJhgWKDq3rSpoPbDuvXqPbNiM4P-AAE4SOboV5yfButcfAHNtH_gW9dAbsKB_2EQ',\n",
       " 'p': 'xevnyaciwojxQJ8ehOEy5028mlqtwzpXq0n-nuSHpr4szaRZPMjnnTw7W3r-WUmUxm2i-Zr22B_WfToHQQ18eoFez7va5S_N3X48n1JbKxfwGss83rEI5zG9uUOnd_1oOcqGwhvpDCm7zxeAAgQniVvq0Hvbs19N70uqXpiAAKE',\n",
       " 'q': '_S3gTCi6hhudbMsrLZbs60ePWIqub6i7gSEmNwbpYBFAvkVMaKKpTt4bys_7n_kU3Axy2JGRc8vq38_-HOnCtjH7HhpQV5moAVZmv0YHEbbJD7oYrebgTHZDOQ0i6eZjFzj5hQ0SWZSdnFR9oC1u2eSuMkEnXjRV6KIMsKquT3E',\n",
       " 'qi': 'jJC7-OrWfi8T6aakpNSEGy0Jnx2TNyl0iSYSJmVs6Y-o6WzVsrQmKQtxGOWxlbZqHDUr5qKYQJQPIID2BLclbfEPIUNwOqp8mol5x6N4TxKQB7FVzBFV2kYmTPU27DJKmZJKal6DTKfz4ld_ff9VxuKg3k6ouPJOcvnb5v0D5qc'}"
      ]
     },
     "execution_count": 15,
     "metadata": {},
     "output_type": "execute_result"
    }
   ],
   "source": [
    "json.loads(key.export())"
   ]
  },
  {
   "attachments": {},
   "cell_type": "markdown",
   "metadata": {},
   "source": [
    "Actually, we just want the public key.\n",
    "\n",
    "See https://jwcrypto.readthedocs.io/en/latest/jwk.html#jwcrypto.jwk.JWK.export_public."
   ]
  },
  {
   "cell_type": "code",
   "execution_count": null,
   "metadata": {},
   "outputs": [],
   "source": [
    "key.export_public(as_dict=True)"
   ]
  },
  {
   "cell_type": "code",
   "execution_count": null,
   "metadata": {},
   "outputs": [],
   "source": []
  }
 ],
 "metadata": {
  "kernelspec": {
   "display_name": "Python 3",
   "language": "python",
   "name": "python3"
  },
  "language_info": {
   "codemirror_mode": {
    "name": "ipython",
    "version": 3
   },
   "file_extension": ".py",
   "mimetype": "text/x-python",
   "name": "python",
   "nbconvert_exporter": "python",
   "pygments_lexer": "ipython3",
   "version": "3.10.4"
  },
  "orig_nbformat": 4
 },
 "nbformat": 4,
 "nbformat_minor": 2
}
